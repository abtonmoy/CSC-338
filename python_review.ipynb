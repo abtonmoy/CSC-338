{
 "cells": [
  {
   "cell_type": "code",
   "execution_count": 3,
   "id": "30015d66",
   "metadata": {},
   "outputs": [
    {
     "name": "stdout",
     "output_type": "stream",
     "text": [
      "19\n",
      "58\n",
      "29\n",
      "88\n",
      "44\n",
      "22\n",
      "11\n",
      "34\n",
      "17\n",
      "52\n",
      "26\n",
      "13\n",
      "40\n",
      "20\n",
      "10\n",
      "5\n",
      "16\n",
      "8\n",
      "4\n",
      "2\n"
     ]
    }
   ],
   "source": [
    "def collatz(n: int) -> int:\n",
    "    if n%2 == 1:\n",
    "        return 3*n+1\n",
    "    else:\n",
    "        return n//2\n",
    "\n",
    "mynum = 19\n",
    "while mynum!=1:\n",
    "    print(mynum)\n",
    "    \n",
    "    mynum = collatz(mynum)"
   ]
  },
  {
   "cell_type": "code",
   "execution_count": 5,
   "id": "01e8e351",
   "metadata": {},
   "outputs": [
    {
     "name": "stdout",
     "output_type": "stream",
     "text": [
      "3\n"
     ]
    }
   ],
   "source": [
    "class Enemy:\n",
    "    def __init__(self, health):\n",
    "        self.health = health\n",
    "    \n",
    "    def damage(self, damage_amount):\n",
    "        self.health = self.health - damage_amount\n",
    "    \n",
    "class Gumba(Enemy):\n",
    "    def __init__(self, health):\n",
    "        super().__init__(health)\n",
    "\n",
    "enemy1 = Gumba(5)\n",
    "enemy1.damage(2)\n",
    "print(enemy1.health)"
   ]
  },
  {
   "cell_type": "code",
   "execution_count": null,
   "id": "7a6bf21b",
   "metadata": {},
   "outputs": [],
   "source": []
  }
 ],
 "metadata": {
  "kernelspec": {
   "display_name": "venv (3.13.5)",
   "language": "python",
   "name": "python3"
  },
  "language_info": {
   "codemirror_mode": {
    "name": "ipython",
    "version": 3
   },
   "file_extension": ".py",
   "mimetype": "text/x-python",
   "name": "python",
   "nbconvert_exporter": "python",
   "pygments_lexer": "ipython3",
   "version": "3.13.5"
  }
 },
 "nbformat": 4,
 "nbformat_minor": 5
}
